{
 "cells": [
  {
   "attachments": {},
   "cell_type": "markdown",
   "metadata": {},
   "source": [
    "**DS3110 - Data Wrangling**\n",
    "**Individual Assignment**"
   ]
  },
  {
   "attachments": {},
   "cell_type": "markdown",
   "metadata": {},
   "source": [
    "Question 01 - \"Spirit Quality.csv\" dataset"
   ]
  },
  {
   "cell_type": "code",
   "execution_count": 203,
   "metadata": {},
   "outputs": [],
   "source": [
    "import pandas as pd\n",
    "data_file = pd.read_csv(\"D:/Uni/5 Semester/Data Wrangling/In class assignmnet/Spirit_Quality.csv\")"
   ]
  },
  {
   "attachments": {},
   "cell_type": "markdown",
   "metadata": {},
   "source": [
    "1) Display variables of the data set and their data types."
   ]
  },
  {
   "cell_type": "code",
   "execution_count": 204,
   "metadata": {},
   "outputs": [
    {
     "name": "stdout",
     "output_type": "stream",
     "text": [
      "wine ID                  object\n",
      "fixed acidity           float64\n",
      "volatile acidity        float64\n",
      "citric acid             float64\n",
      "residual sugar          float64\n",
      "chlorides               float64\n",
      "free sulfur dioxide     float64\n",
      "total sulfur dioxide    float64\n",
      "density                 float64\n",
      "pH                      float64\n",
      "sulphates               float64\n",
      "alcohol                 float64\n",
      "quality                   int64\n",
      "quality index             int64\n",
      "cost group               object\n",
      "dtype: object\n",
      "wine ID                  object\n",
      "fixed acidity           float64\n",
      "volatile acidity        float64\n",
      "citric acid             float64\n",
      "residual sugar          float64\n",
      "chlorides               float64\n",
      "free sulfur dioxide     float64\n",
      "total sulfur dioxide    float64\n",
      "density                 float64\n",
      "pH                      float64\n",
      "sulphates               float64\n",
      "alcohol                 float64\n",
      "quality                   int64\n",
      "quality index             int64\n",
      "cost group               object\n",
      "dtype: object\n",
      "wine ID                  object\n",
      "fixed acidity           float64\n",
      "volatile acidity        float64\n",
      "citric acid             float64\n",
      "residual sugar          float64\n",
      "chlorides               float64\n",
      "free sulfur dioxide     float64\n",
      "total sulfur dioxide    float64\n",
      "density                 float64\n",
      "pH                      float64\n",
      "sulphates               float64\n",
      "alcohol                 float64\n",
      "quality                   int64\n",
      "quality index             int64\n",
      "cost group               object\n",
      "dtype: object\n",
      "wine ID                  object\n",
      "fixed acidity           float64\n",
      "volatile acidity        float64\n",
      "citric acid             float64\n",
      "residual sugar          float64\n",
      "chlorides               float64\n",
      "free sulfur dioxide     float64\n",
      "total sulfur dioxide    float64\n",
      "density                 float64\n",
      "pH                      float64\n",
      "sulphates               float64\n",
      "alcohol                 float64\n",
      "quality                   int64\n",
      "quality index             int64\n",
      "cost group               object\n",
      "dtype: object\n",
      "wine ID                  object\n",
      "fixed acidity           float64\n",
      "volatile acidity        float64\n",
      "citric acid             float64\n",
      "residual sugar          float64\n",
      "chlorides               float64\n",
      "free sulfur dioxide     float64\n",
      "total sulfur dioxide    float64\n",
      "density                 float64\n",
      "pH                      float64\n",
      "sulphates               float64\n",
      "alcohol                 float64\n",
      "quality                   int64\n",
      "quality index             int64\n",
      "cost group               object\n",
      "dtype: object\n",
      "wine ID                  object\n",
      "fixed acidity           float64\n",
      "volatile acidity        float64\n",
      "citric acid             float64\n",
      "residual sugar          float64\n",
      "chlorides               float64\n",
      "free sulfur dioxide     float64\n",
      "total sulfur dioxide    float64\n",
      "density                 float64\n",
      "pH                      float64\n",
      "sulphates               float64\n",
      "alcohol                 float64\n",
      "quality                   int64\n",
      "quality index             int64\n",
      "cost group               object\n",
      "dtype: object\n",
      "wine ID                  object\n",
      "fixed acidity           float64\n",
      "volatile acidity        float64\n",
      "citric acid             float64\n",
      "residual sugar          float64\n",
      "chlorides               float64\n",
      "free sulfur dioxide     float64\n",
      "total sulfur dioxide    float64\n",
      "density                 float64\n",
      "pH                      float64\n",
      "sulphates               float64\n",
      "alcohol                 float64\n",
      "quality                   int64\n",
      "quality index             int64\n",
      "cost group               object\n",
      "dtype: object\n",
      "wine ID                  object\n",
      "fixed acidity           float64\n",
      "volatile acidity        float64\n",
      "citric acid             float64\n",
      "residual sugar          float64\n",
      "chlorides               float64\n",
      "free sulfur dioxide     float64\n",
      "total sulfur dioxide    float64\n",
      "density                 float64\n",
      "pH                      float64\n",
      "sulphates               float64\n",
      "alcohol                 float64\n",
      "quality                   int64\n",
      "quality index             int64\n",
      "cost group               object\n",
      "dtype: object\n",
      "wine ID                  object\n",
      "fixed acidity           float64\n",
      "volatile acidity        float64\n",
      "citric acid             float64\n",
      "residual sugar          float64\n",
      "chlorides               float64\n",
      "free sulfur dioxide     float64\n",
      "total sulfur dioxide    float64\n",
      "density                 float64\n",
      "pH                      float64\n",
      "sulphates               float64\n",
      "alcohol                 float64\n",
      "quality                   int64\n",
      "quality index             int64\n",
      "cost group               object\n",
      "dtype: object\n",
      "wine ID                  object\n",
      "fixed acidity           float64\n",
      "volatile acidity        float64\n",
      "citric acid             float64\n",
      "residual sugar          float64\n",
      "chlorides               float64\n",
      "free sulfur dioxide     float64\n",
      "total sulfur dioxide    float64\n",
      "density                 float64\n",
      "pH                      float64\n",
      "sulphates               float64\n",
      "alcohol                 float64\n",
      "quality                   int64\n",
      "quality index             int64\n",
      "cost group               object\n",
      "dtype: object\n",
      "wine ID                  object\n",
      "fixed acidity           float64\n",
      "volatile acidity        float64\n",
      "citric acid             float64\n",
      "residual sugar          float64\n",
      "chlorides               float64\n",
      "free sulfur dioxide     float64\n",
      "total sulfur dioxide    float64\n",
      "density                 float64\n",
      "pH                      float64\n",
      "sulphates               float64\n",
      "alcohol                 float64\n",
      "quality                   int64\n",
      "quality index             int64\n",
      "cost group               object\n",
      "dtype: object\n",
      "wine ID                  object\n",
      "fixed acidity           float64\n",
      "volatile acidity        float64\n",
      "citric acid             float64\n",
      "residual sugar          float64\n",
      "chlorides               float64\n",
      "free sulfur dioxide     float64\n",
      "total sulfur dioxide    float64\n",
      "density                 float64\n",
      "pH                      float64\n",
      "sulphates               float64\n",
      "alcohol                 float64\n",
      "quality                   int64\n",
      "quality index             int64\n",
      "cost group               object\n",
      "dtype: object\n",
      "wine ID                  object\n",
      "fixed acidity           float64\n",
      "volatile acidity        float64\n",
      "citric acid             float64\n",
      "residual sugar          float64\n",
      "chlorides               float64\n",
      "free sulfur dioxide     float64\n",
      "total sulfur dioxide    float64\n",
      "density                 float64\n",
      "pH                      float64\n",
      "sulphates               float64\n",
      "alcohol                 float64\n",
      "quality                   int64\n",
      "quality index             int64\n",
      "cost group               object\n",
      "dtype: object\n",
      "wine ID                  object\n",
      "fixed acidity           float64\n",
      "volatile acidity        float64\n",
      "citric acid             float64\n",
      "residual sugar          float64\n",
      "chlorides               float64\n",
      "free sulfur dioxide     float64\n",
      "total sulfur dioxide    float64\n",
      "density                 float64\n",
      "pH                      float64\n",
      "sulphates               float64\n",
      "alcohol                 float64\n",
      "quality                   int64\n",
      "quality index             int64\n",
      "cost group               object\n",
      "dtype: object\n",
      "wine ID                  object\n",
      "fixed acidity           float64\n",
      "volatile acidity        float64\n",
      "citric acid             float64\n",
      "residual sugar          float64\n",
      "chlorides               float64\n",
      "free sulfur dioxide     float64\n",
      "total sulfur dioxide    float64\n",
      "density                 float64\n",
      "pH                      float64\n",
      "sulphates               float64\n",
      "alcohol                 float64\n",
      "quality                   int64\n",
      "quality index             int64\n",
      "cost group               object\n",
      "dtype: object\n"
     ]
    }
   ],
   "source": [
    "for col in data_file.columns:\n",
    "    print(data_file.dtypes)"
   ]
  },
  {
   "attachments": {},
   "cell_type": "markdown",
   "metadata": {},
   "source": [
    "2) How many records are there in the dataset?"
   ]
  },
  {
   "cell_type": "code",
   "execution_count": 205,
   "metadata": {},
   "outputs": [
    {
     "name": "stdout",
     "output_type": "stream",
     "text": [
      "4898\n"
     ]
    }
   ],
   "source": [
    "print(data_file.shape[0])"
   ]
  },
  {
   "attachments": {},
   "cell_type": "markdown",
   "metadata": {},
   "source": [
    "3) What is the highest fixed acidity value present in data?"
   ]
  },
  {
   "cell_type": "code",
   "execution_count": 206,
   "metadata": {},
   "outputs": [
    {
     "name": "stdout",
     "output_type": "stream",
     "text": [
      "14.2\n"
     ]
    }
   ],
   "source": [
    "print(data_file['fixed acidity'].max())"
   ]
  },
  {
   "attachments": {},
   "cell_type": "markdown",
   "metadata": {},
   "source": [
    "4) Calculate the difference between mean fixed acidity and median volatile acidity."
   ]
  },
  {
   "cell_type": "code",
   "execution_count": 207,
   "metadata": {},
   "outputs": [
    {
     "name": "stdout",
     "output_type": "stream",
     "text": [
      "6.604787668436097\n"
     ]
    }
   ],
   "source": [
    "print(data_file['fixed acidity'].mean() - data_file['volatile acidity'].median())"
   ]
  },
  {
   "attachments": {},
   "cell_type": "markdown",
   "metadata": {},
   "source": [
    "5) Display the count of spirits that falls into each catergory of the quality variable."
   ]
  },
  {
   "cell_type": "code",
   "execution_count": 208,
   "metadata": {},
   "outputs": [
    {
     "name": "stdout",
     "output_type": "stream",
     "text": [
      "quality\n",
      "6    2198\n",
      "5    1457\n",
      "7     880\n",
      "8     175\n",
      "4     163\n",
      "3      20\n",
      "9       5\n",
      "Name: count, dtype: int64\n"
     ]
    }
   ],
   "source": [
    "print(data_file['quality'].value_counts())"
   ]
  },
  {
   "attachments": {},
   "cell_type": "markdown",
   "metadata": {},
   "source": [
    "6) Replace the values of the \"quality index\" variable and rename the as \"quality categories\"."
   ]
  },
  {
   "cell_type": "code",
   "execution_count": 209,
   "metadata": {},
   "outputs": [
    {
     "name": "stdout",
     "output_type": "stream",
     "text": [
      "     wine ID  fixed acidity  volatile acidity  citric acid  residual sugar  \\\n",
      "0       ID01            7.0              0.27         0.36            20.7   \n",
      "1       ID02            6.3              0.30         0.34             1.6   \n",
      "2       ID03            8.1              0.28         0.40             6.9   \n",
      "3       ID04            7.2              0.23         0.32             8.5   \n",
      "4       ID05            7.2              0.23         0.32             8.5   \n",
      "...      ...            ...               ...          ...             ...   \n",
      "4893  ID4894            6.2              0.21         0.29             1.6   \n",
      "4894  ID4895            6.6              0.32         0.36             8.0   \n",
      "4895  ID4896            6.5              0.24         0.19             1.2   \n",
      "4896  ID4897            5.5              0.29         0.30             1.1   \n",
      "4897  ID4898            6.0              0.21         0.38             0.8   \n",
      "\n",
      "      chlorides  free sulfur dioxide  total sulfur dioxide  density    pH  \\\n",
      "0         0.045                 45.0                 170.0  1.00100  3.00   \n",
      "1         0.049                 14.0                 132.0  0.99400  3.30   \n",
      "2         0.050                 30.0                  97.0  0.99510  3.26   \n",
      "3         0.058                 47.0                 186.0  0.99560  3.19   \n",
      "4         0.058                 47.0                 186.0  0.99560  3.19   \n",
      "...         ...                  ...                   ...      ...   ...   \n",
      "4893      0.039                 24.0                  92.0  0.99114  3.27   \n",
      "4894      0.047                 57.0                 168.0  0.99490  3.15   \n",
      "4895      0.041                 30.0                 111.0  0.99254  2.99   \n",
      "4896      0.022                 20.0                 110.0  0.98869  3.34   \n",
      "4897      0.020                 22.0                  98.0  0.98941  3.26   \n",
      "\n",
      "      sulphates  alcohol  quality quality categories            cost group  \\\n",
      "0          0.45      8.8        6                  1  moderately expensive   \n",
      "1          0.49      9.5        6                  1  moderately expensive   \n",
      "2          0.44     10.1        6                  1  moderately expensive   \n",
      "3          0.40      9.9        6                  1  moderately expensive   \n",
      "4          0.40      9.9        6                  1  moderately expensive   \n",
      "...         ...      ...      ...                ...                   ...   \n",
      "4893       0.50     11.2        6                  1  moderately expensive   \n",
      "4894       0.46      9.6        5                  1  moderately expensive   \n",
      "4895       0.46      9.4        6                  1  moderately expensive   \n",
      "4896       0.38     12.8        7                  1    somewhat expensive   \n",
      "4897       0.32     11.8        6                  1  moderately expensive   \n",
      "\n",
      "     quality categories  \n",
      "0              moderate  \n",
      "1              moderate  \n",
      "2              moderate  \n",
      "3              moderate  \n",
      "4              moderate  \n",
      "...                 ...  \n",
      "4893           moderate  \n",
      "4894           moderate  \n",
      "4895           moderate  \n",
      "4896           moderate  \n",
      "4897           moderate  \n",
      "\n",
      "[4898 rows x 16 columns]\n"
     ]
    }
   ],
   "source": [
    "# Replace the values of the \"quality index\" variable \n",
    "data_file['quality categories'] = data_file['quality index'].replace({\n",
    "    0: 'bad',\n",
    "    1: 'moderate',\n",
    "    2: 'good'\n",
    "})\n",
    "\n",
    "#Rename the \"quality index\" column\n",
    "data_file.rename(columns={'quality index': 'quality categories'}, inplace=True)\n",
    "\n",
    "print(data_file)"
   ]
  },
  {
   "attachments": {},
   "cell_type": "markdown",
   "metadata": {},
   "source": [
    "7) i) Group the data using \"cost group\" and calculate mean values for alcohol amount, residual sugar, chlorides and sulphates for each category in \"cost group\"."
   ]
  },
  {
   "cell_type": "code",
   "execution_count": 210,
   "metadata": {},
   "outputs": [
    {
     "data": {
      "text/html": [
       "<div>\n",
       "<style scoped>\n",
       "    .dataframe tbody tr th:only-of-type {\n",
       "        vertical-align: middle;\n",
       "    }\n",
       "\n",
       "    .dataframe tbody tr th {\n",
       "        vertical-align: top;\n",
       "    }\n",
       "\n",
       "    .dataframe thead th {\n",
       "        text-align: right;\n",
       "    }\n",
       "</style>\n",
       "<table border=\"1\" class=\"dataframe\">\n",
       "  <thead>\n",
       "    <tr style=\"text-align: right;\">\n",
       "      <th></th>\n",
       "      <th>alcohol</th>\n",
       "      <th>residual sugar</th>\n",
       "      <th>chlorides</th>\n",
       "      <th>sulphates</th>\n",
       "    </tr>\n",
       "    <tr>\n",
       "      <th>cost group</th>\n",
       "      <th></th>\n",
       "      <th></th>\n",
       "      <th></th>\n",
       "      <th></th>\n",
       "    </tr>\n",
       "  </thead>\n",
       "  <tbody>\n",
       "    <tr>\n",
       "      <th>cheap</th>\n",
       "      <td>10.345000</td>\n",
       "      <td>6.392500</td>\n",
       "      <td>0.054300</td>\n",
       "      <td>0.474500</td>\n",
       "    </tr>\n",
       "    <tr>\n",
       "      <th>moderately expensive</th>\n",
       "      <td>10.264797</td>\n",
       "      <td>6.705107</td>\n",
       "      <td>0.047841</td>\n",
       "      <td>0.487069</td>\n",
       "    </tr>\n",
       "    <tr>\n",
       "      <th>somewhat expensive</th>\n",
       "      <td>11.412401</td>\n",
       "      <td>5.266919</td>\n",
       "      <td>0.038211</td>\n",
       "      <td>0.500303</td>\n",
       "    </tr>\n",
       "    <tr>\n",
       "      <th>very expensive</th>\n",
       "      <td>12.180000</td>\n",
       "      <td>4.120000</td>\n",
       "      <td>0.027400</td>\n",
       "      <td>0.466000</td>\n",
       "    </tr>\n",
       "  </tbody>\n",
       "</table>\n",
       "</div>"
      ],
      "text/plain": [
       "                        alcohol  residual sugar  chlorides  sulphates\n",
       "cost group                                                           \n",
       "cheap                 10.345000        6.392500   0.054300   0.474500\n",
       "moderately expensive  10.264797        6.705107   0.047841   0.487069\n",
       "somewhat expensive    11.412401        5.266919   0.038211   0.500303\n",
       "very expensive        12.180000        4.120000   0.027400   0.466000"
      ]
     },
     "execution_count": 210,
     "metadata": {},
     "output_type": "execute_result"
    }
   ],
   "source": [
    "data_file.groupby('cost group')[['alcohol', 'residual sugar', 'chlorides', 'sulphates']].mean()"
   ]
  },
  {
   "attachments": {},
   "cell_type": "markdown",
   "metadata": {},
   "source": [
    "7) ii) Describe the relationship in categories of cost group variable and mean alcohol amount.\n",
    "\n",
    "    - There is a positive correlation between cost group and mean alcohol amount which means when the cost of wine increase, the mean alcohol amount also increase.\n",
    "    - The correlation is a weak positive correlation which means besides the cost of the wine, there are other facotrs which influece the mean alcohol amount in wine.\n",
    "    - The cheap category has 10.35% mean alcohol amount while very expensive category has 12.18% mean alcohol amount."
   ]
  },
  {
   "attachments": {},
   "cell_type": "markdown",
   "metadata": {},
   "source": [
    "8) Get the total acidity of spirits by adding \"fixed acidity\" and \"volatile acidity\" and store the values in a new column called \"total acidity\". Save the data set as a csv file having name as \"Total acidity\"."
   ]
  },
  {
   "cell_type": "code",
   "execution_count": 211,
   "metadata": {},
   "outputs": [
    {
     "name": "stdout",
     "output_type": "stream",
     "text": [
      "0       7.27\n",
      "1       6.60\n",
      "2       8.38\n",
      "3       7.43\n",
      "4       7.43\n",
      "        ... \n",
      "4893    6.41\n",
      "4894    6.92\n",
      "4895    6.74\n",
      "4896    5.79\n",
      "4897    6.21\n",
      "Name: total acidity, Length: 4898, dtype: float64\n"
     ]
    }
   ],
   "source": [
    "# Get the total acidity\n",
    "data_file[\"total acidity\"] = data_file[\"fixed acidity\"] + data_file[\"volatile acidity\"]\n",
    "\n",
    "# Save as a csv file\n",
    "data_file.to_csv(\"Total acidity.csv\", index=False)\n",
    "\n",
    "print(data_file['total acidity'])"
   ]
  },
  {
   "attachments": {},
   "cell_type": "markdown",
   "metadata": {},
   "source": [
    "9) Get the records of spirits which has pH value less than 3.0 and Save the data set as a csv file having the name as “Low PH”."
   ]
  },
  {
   "cell_type": "code",
   "execution_count": 212,
   "metadata": {},
   "outputs": [
    {
     "name": "stdout",
     "output_type": "stream",
     "text": [
      "     wine ID  fixed acidity  volatile acidity  citric acid  residual sugar  \\\n",
      "10      ID11            8.1              0.27         0.41            1.45   \n",
      "14      ID15            8.3              0.42         0.62           19.25   \n",
      "73      ID74            8.6              0.20         0.46            1.00   \n",
      "78      ID79            7.4              0.20         0.30            8.80   \n",
      "97      ID98            8.6              0.20         0.36            1.20   \n",
      "...      ...            ...               ...          ...             ...   \n",
      "4807  ID4808            6.0              0.17         0.30            7.30   \n",
      "4816  ID4817            6.1              0.41         0.20           12.60   \n",
      "4855  ID4856            7.1              0.23         0.39           13.70   \n",
      "4856  ID4857            7.1              0.23         0.39           13.70   \n",
      "4895  ID4896            6.5              0.24         0.19            1.20   \n",
      "\n",
      "      chlorides  free sulfur dioxide  total sulfur dioxide  density    pH  \\\n",
      "10        0.033                 11.0                  63.0  0.99080  2.99   \n",
      "14        0.040                 41.0                 172.0  1.00020  2.98   \n",
      "73        0.054                  9.0                  72.0  0.99410  2.95   \n",
      "78        0.064                 26.0                 103.0  0.99610  2.94   \n",
      "97        0.034                 15.0                  80.0  0.99130  2.95   \n",
      "...         ...                  ...                   ...      ...   ...   \n",
      "4807      0.039                 39.0                 104.0  0.99252  2.91   \n",
      "4816      0.032                 54.0                 136.0  0.99516  2.91   \n",
      "4855      0.058                 26.0                 172.0  0.99755  2.90   \n",
      "4856      0.058                 26.0                 172.0  0.99755  2.90   \n",
      "4895      0.041                 30.0                 111.0  0.99254  2.99   \n",
      "\n",
      "      sulphates  alcohol  quality quality categories            cost group  \\\n",
      "10         0.56     12.0        5                  1  moderately expensive   \n",
      "14         0.67      9.7        5                  1  moderately expensive   \n",
      "73         0.49      9.1        6                  1  moderately expensive   \n",
      "78         0.56      9.3        5                  1  moderately expensive   \n",
      "97         0.36     11.4        7                  1    somewhat expensive   \n",
      "...         ...      ...      ...                ...                   ...   \n",
      "4807       0.57     11.0        6                  1  moderately expensive   \n",
      "4816       0.43     10.6        6                  1  moderately expensive   \n",
      "4855       0.46      9.0        6                  1  moderately expensive   \n",
      "4856       0.46      9.0        6                  1  moderately expensive   \n",
      "4895       0.46      9.4        6                  1  moderately expensive   \n",
      "\n",
      "     quality categories  total acidity  \n",
      "10             moderate           8.37  \n",
      "14             moderate           8.72  \n",
      "73             moderate           8.80  \n",
      "78             moderate           7.60  \n",
      "97             moderate           8.80  \n",
      "...                 ...            ...  \n",
      "4807           moderate           6.17  \n",
      "4816           moderate           6.51  \n",
      "4855           moderate           7.33  \n",
      "4856           moderate           7.33  \n",
      "4895           moderate           6.74  \n",
      "\n",
      "[437 rows x 17 columns]\n"
     ]
    }
   ],
   "source": [
    "# Get the records of spirits which has pH value less than 3.0\n",
    "low_ph_data = data_file[data_file[\"pH\"] < 3.0]\n",
    "\n",
    "# Save as a csv file\n",
    "low_ph_data.to_csv(\"Low PH.csv\", index=False)\n",
    "\n",
    "print(low_ph_data)"
   ]
  },
  {
   "attachments": {},
   "cell_type": "markdown",
   "metadata": {},
   "source": [
    "10) Get a subset of data with the columns; fixed acidity, volatile acidity, citric acid, free sulfur dioxide, total sulfur dioxide, sulphates and quality and Save the data set as a csv file having the name as “acid_and_sulpher”"
   ]
  },
  {
   "cell_type": "code",
   "execution_count": 213,
   "metadata": {},
   "outputs": [
    {
     "name": "stdout",
     "output_type": "stream",
     "text": [
      "      fixed acidity  volatile acidity  citric acid  free sulfur dioxide  \\\n",
      "0               7.0              0.27         0.36                 45.0   \n",
      "1               6.3              0.30         0.34                 14.0   \n",
      "2               8.1              0.28         0.40                 30.0   \n",
      "3               7.2              0.23         0.32                 47.0   \n",
      "4               7.2              0.23         0.32                 47.0   \n",
      "...             ...               ...          ...                  ...   \n",
      "4893            6.2              0.21         0.29                 24.0   \n",
      "4894            6.6              0.32         0.36                 57.0   \n",
      "4895            6.5              0.24         0.19                 30.0   \n",
      "4896            5.5              0.29         0.30                 20.0   \n",
      "4897            6.0              0.21         0.38                 22.0   \n",
      "\n",
      "      total sulfur dioxide  sulphates  quality  \n",
      "0                    170.0       0.45        6  \n",
      "1                    132.0       0.49        6  \n",
      "2                     97.0       0.44        6  \n",
      "3                    186.0       0.40        6  \n",
      "4                    186.0       0.40        6  \n",
      "...                    ...        ...      ...  \n",
      "4893                  92.0       0.50        6  \n",
      "4894                 168.0       0.46        5  \n",
      "4895                 111.0       0.46        6  \n",
      "4896                 110.0       0.38        7  \n",
      "4897                  98.0       0.32        6  \n",
      "\n",
      "[4898 rows x 7 columns]\n"
     ]
    }
   ],
   "source": [
    "# Get the subset of the data with the columns\n",
    "subset_data = data_file[[\"fixed acidity\", \"volatile acidity\", \"citric acid\", \"free sulfur dioxide\", \"total sulfur dioxide\", \"sulphates\", \"quality\"]]\n",
    "\n",
    "# Save as a csv file\n",
    "subset_data.to_csv(\"acid_and_sulpher.csv\", index=False)\n",
    "\n",
    "print(subset_data)"
   ]
  },
  {
   "attachments": {},
   "cell_type": "markdown",
   "metadata": {},
   "source": [
    "11) Draw a suitable graph to display the distribution of “volatile acidity” with suitable axis labels."
   ]
  },
  {
   "cell_type": "code",
   "execution_count": 214,
   "metadata": {},
   "outputs": [
    {
     "data": {
      "image/png": "[encoded data removed]",
      "text/plain": [
       "<Figure size 640x480 with 1 Axes>"
      ]
     },
     "metadata": {},
     "output_type": "display_data"
    }
   ],
   "source": [
    "import matplotlib.pyplot as plt\n",
    "\n",
    "plt.hist(data_file[\"volatile acidity\"], bins=10, edgecolor='black')\n",
    "plt.xlabel(\"Volatile acidity\")\n",
    "plt.show()"
   ]
  },
  {
   "attachments": {},
   "cell_type": "markdown",
   "metadata": {},
   "source": [
    "12) i) Which data problem you see in the distribution of \"volatile acidity\"?\n",
    "\n",
    "    - The distribution of volatile acidity is not normally disributed. It is right-skewed. Which means there are more values in right side of the distribution. \n",
    "    - High volatile acidity in wine is not a good thing this can be happen due to many reasons like; \n",
    "        - Less sanitation practices.\n",
    "        - Use ingredients with high level of acetic acid.\n",
    "        - Oxygen overexposure and so on.\n",
    "\n",
    "    "
   ]
  },
  {
   "attachments": {},
   "cell_type": "markdown",
   "metadata": {},
   "source": [
    " 12) ii) Using a suitable method, display the entries having the identified issue.\n",
    "\n",
    "      - Boxplot can be used to show that the entries having right-skewness issue.\n",
    "\n",
    "      - It shows the five number summary of the distribution of volatile acidity of wine (median, quartile 1, quatile 3, min and max) and also the outliers.\n",
    "\n",
    "      - As shown in the boxplot the distribution is a righ-skewed with a median of approximately 2.5 g/L. \n",
    "     \n",
    "     - The black circles in the boxplot shows the outliers, the values that fall outside of the inter-quartile range. Those outliers are in falls outside of the upperlimit which means that there are some wine which has more volatile acidity than the normal limit."
   ]
  },
  {
   "cell_type": "code",
   "execution_count": 215,
   "metadata": {},
   "outputs": [
    {
     "data": {
      "image/png": "[encoded data removed]",
      "text/plain": [
       "<Figure size 640x480 with 1 Axes>"
      ]
     },
     "metadata": {},
     "output_type": "display_data"
    }
   ],
   "source": [
    "plt.boxplot(data_file['volatile acidity'],\n",
    "            patch_artist = True,\n",
    "            boxprops = dict(facecolor = \"lightblue\"),\n",
    "            medianprops = dict(color = \"green\", linewidth = 1.5),\n",
    "            capprops = dict(color = \"red\", linewidth = 2))\n",
    "plt.xlabel('Volatile acidity (g/L)')\n",
    "plt.title('Boxplot of volatile acidity')\n",
    "plt.show()"
   ]
  },
  {
   "attachments": {},
   "cell_type": "markdown",
   "metadata": {},
   "source": [
    "12) iii) What do you suggest to overcome the problem?\n",
    "\n",
    "    - To overcome this right-skewness issue, we can do to several things like; \n",
    "        - Collect more data which helps to balance and make the distribution approximately normal.\n",
    "        - Improve winemaking practices to reduce the amount of volatile acidity in wines.\n",
    "        - At the same time we should remove these outliers by taking steps to reduce the acidity since it is unsafe to have more volatile acidity than the recommended limit."
   ]
  },
  {
   "attachments": {},
   "cell_type": "markdown",
   "metadata": {},
   "source": [
    "12) iv) Perform your suggestion and store the new …volatile acidity values in a new column called, “volatile_acidity_new”. Save the data as a csv file having the name as “cleaned_data”."
   ]
  },
  {
   "cell_type": "code",
   "execution_count": 216,
   "metadata": {},
   "outputs": [],
   "source": [
    "import numpy as np\n",
    "\n",
    "# Define upper and lower limit for outliers\n",
    "q1 = np.percentile(data_file['volatile acidity'], 25)\n",
    "q3 = np.percentile(data_file['volatile acidity'], 75)\n",
    "iqr = q3 - q1\n",
    "upper_lim = np.percentile(data_file['volatile acidity'], 75) + 1.5 * iqr\n",
    "lower_lim = np.percentile(data_file['volatile acidity'], 25) - 1.5 * iqr\n",
    "\n",
    "# Outliers\n",
    "outliers = np.where((data_file['volatile acidity'] < lower_lim) | (data_file['volatile acidity'] > upper_lim))[0]\n",
    "\n",
    "# Remove outliers from the data set\n",
    "data_file = data_file.drop(outliers, axis=0)\n",
    "\n",
    "# Create new column \n",
    "data_file['volatile_acidity_new'] = data_file['volatile acidity']\n",
    "\n",
    "# Save the data as a csv file\n",
    "data_file.to_csv('cleaned_data.csv', index=False)"
   ]
  },
  {
   "attachments": {},
   "cell_type": "markdown",
   "metadata": {},
   "source": [
    "13) i) Draw a suitable graph to display the relationship between “free sulfur dioxide” and “total sulfur dioxide” with suitable axis labels."
   ]
  },
  {
   "cell_type": "code",
   "execution_count": 217,
   "metadata": {},
   "outputs": [
    {
     "data": {
      "image/png": "[encoded data removed]",
      "text/plain": [
       "<Figure size 640x480 with 1 Axes>"
      ]
     },
     "metadata": {},
     "output_type": "display_data"
    }
   ],
   "source": [
    "plt.scatter(data_file['free sulfur dioxide'], data_file['total sulfur dioxide'])\n",
    "plt.xlabel('Free Sulfur Dioxide (mg/L)')\n",
    "plt.ylabel('Total Sulfur Dioxide (mg/L)')\n",
    "plt.show()"
   ]
  },
  {
   "attachments": {},
   "cell_type": "markdown",
   "metadata": {},
   "source": [
    "13) ii) What conclusions can you make on this?\n",
    "\n",
    "    - The above satter plot shows a positive relationship between free sulfur dioxide and total sulfur dioxide which means when free sulfur dioxide increase, total sulfur dioxide also increase.\n"
   ]
  },
  {
   "attachments": {},
   "cell_type": "markdown",
   "metadata": {},
   "source": [
    "14) i) Merge “Spirit_Quality.csv” and “Spirit_QualityNew.csv” such that the data loss is the least and the data loss is the most with suitable names for the merged data."
   ]
  },
  {
   "cell_type": "code",
   "execution_count": 218,
   "metadata": {},
   "outputs": [],
   "source": [
    "import csv\n",
    "\n",
    "# least data lost\n",
    "SQ_data_l = pd.read_csv(r\"D:/Uni/5 Semester/Data Wrangling/In class assignmnet/Spirit_Quality.csv\")\n",
    "SQ_new_data_l = pd.read_csv(r\"D:/Uni/5 Semester/Data Wrangling/In class assignmnet/Spirit_QualityNew.csv\")\n",
    "\n",
    "def merge_csv_files(SQ_data_l, SQ_new_data_l, output_file_l):\n",
    "    with open(SQ_data_l, \"r\") as fl1, open(SQ_new_data_l, \"r\") as fl2, open(output_file_l, \"w\") as fl3:\n",
    "        reader_fl1 = csv.reader(fl1)\n",
    "        reader_fl2 = csv.reader(fl2)\n",
    "        writer_fl3 = csv.writer(fl3)\n",
    "        \n",
    "        for row1, row2 in zip(reader_fl1, reader_fl2):\n",
    "            writer_fl3.writerow(row1 + row2)\n",
    "            \n",
    "merge_csv_files(\"Spirit_Quality.csv\", \"Spirit_QualityNew.csv\", \"Spirit_Quality_LeastDataLoss.csv\") \n",
    "\n",
    "\n",
    "# most data lost\n",
    "SQ_data_m = pd.read_csv(r\"D:/Uni/5 Semester/Data Wrangling/In class assignmnet/Spirit_Quality.csv\")\n",
    "SQ_new_data_m = pd.read_csv(r\"D:/Uni/5 Semester/Data Wrangling/In class assignmnet/Spirit_QualityNew.csv\")\n",
    "\n",
    "def merge_csv_files(SQ_data_m, SQ_new_data_m, output_file_m):\n",
    "    with open(SQ_data_m, \"r\") as fm1, open(SQ_new_data_m, \"r\") as fm2, open(output_file_m, \"w\") as fm3:\n",
    "        reader_fm1 = csv.reader(fm1)\n",
    "        reader_fm2 = csv.reader(fm2)\n",
    "        writer_fm3 = csv.writer(fm3)\n",
    "        \n",
    "        for row1, row2 in zip(reader_fm1, reader_fm2):\n",
    "            writer_fm3.writerow([row1[0] + row2[1]])\n",
    "            \n",
    "merge_csv_files(\"Spirit_Quality.csv\", \"Spirit_QualityNew.csv\", \"Spirit_Quality_MostDataLoss.csv\") \n",
    "\n"
   ]
  },
  {
   "attachments": {},
   "cell_type": "markdown",
   "metadata": {},
   "source": [
    "14) (ii) Display the number of records in the resulting set of data in each of the above situations. \n",
    "\n"
   ]
  },
  {
   "cell_type": "code",
   "execution_count": 219,
   "metadata": {},
   "outputs": [
    {
     "name": "stdout",
     "output_type": "stream",
     "text": [
      "The no. of records in least data lost is ---> 5002\n",
      "The no. of records in most data lost is ---> 5002\n"
     ]
    }
   ],
   "source": [
    "# Number of records in least data lost\n",
    "with open(\"Spirit_Quality_LeastDataLOss.csv\", \"r\") as fl3:\n",
    "    reader_fl3 = csv.reader(fl3)\n",
    "    num_records_L = len(list(reader_fl3))\n",
    "    \n",
    "print(\"The no. of records in least data lost is --->\", num_records_L)\n",
    "\n",
    "\n",
    "# Number of records in most data lost\n",
    "with open(\"Spirit_Quality_MostDataLoss.csv\", \"r\") as fm3:\n",
    "    reader_fm3 = csv.reader(fm3)\n",
    "    num_records_M = len(list(reader_fm3))\n",
    "    \n",
    "print(\"The no. of records in most data lost is --->\", num_records_L)"
   ]
  },
  {
   "attachments": {},
   "cell_type": "markdown",
   "metadata": {},
   "source": [
    "Question 02 - \"Flights_data.csv\" data set"
   ]
  },
  {
   "cell_type": "code",
   "execution_count": 220,
   "metadata": {},
   "outputs": [
    {
     "name": "stdout",
     "output_type": "stream",
     "text": [
      "       Month  average number of passengers destination loss of luggage\n",
      "0    1949-01                     123.99352         USA             yes\n",
      "1    1949-02                     124.32410     Germany             NaN\n",
      "2    1949-03                     124.72410       Japan             NaN\n",
      "3    1949-04                     125.13451         USA             yes\n",
      "4    1949-05                     125.72341       Japan             NaN\n",
      "..       ...                           ...         ...             ...\n",
      "139  1960-08                     479.01240     Germany              no\n",
      "140  1960-09                     482.45100       Japan             NaN\n",
      "141  1960-10                     485.15400         USA             NaN\n",
      "142  1960-11                     488.67700       Dubai             NaN\n",
      "143  1960-12                     491.68200   Australia              no\n",
      "\n",
      "[144 rows x 4 columns]\n"
     ]
    }
   ],
   "source": [
    "import pandas as pd\n",
    "import numpy as np \n",
    "import matplotlib.pyplot as plt \n",
    "import csv \n",
    "\n",
    "data_set = pd.read_csv(r\"D:/Uni/5 Semester/Data Wrangling/In class assignmnet/Flights_data.csv\")\n",
    "print(data_set)"
   ]
  },
  {
   "attachments": {},
   "cell_type": "markdown",
   "metadata": {},
   "source": [
    "1) How many observations are there which contain at least one missing value"
   ]
  },
  {
   "cell_type": "code",
   "execution_count": 221,
   "metadata": {},
   "outputs": [
    {
     "name": "stdout",
     "output_type": "stream",
     "text": [
      "No of obeservations which have at leat one missing value ---> 112\n"
     ]
    }
   ],
   "source": [
    "missing_nof_obs = sum(data_set.isnull().sum())\n",
    "print(\"No of obeservations which have at leat one missing value --->\", missing_nof_obs)"
   ]
  },
  {
   "attachments": {},
   "cell_type": "markdown",
   "metadata": {},
   "source": [
    "2) List the variables which contain missing values, with the corresponding number of missing values in each variable."
   ]
  },
  {
   "cell_type": "code",
   "execution_count": 222,
   "metadata": {},
   "outputs": [
    {
     "name": "stdout",
     "output_type": "stream",
     "text": [
      "List of variables with missing values:\n",
      " Month                             0\n",
      "average number of passengers      5\n",
      "destination                       0\n",
      "loss of luggage                 107\n",
      "dtype: int64\n"
     ]
    }
   ],
   "source": [
    "missing_nof_obs = data_set.isnull().sum()\n",
    "print(\"List of variables with missing values:\\n\", missing_nof_obs)"
   ]
  },
  {
   "attachments": {},
   "cell_type": "markdown",
   "metadata": {},
   "source": [
    "3) Calculate the percentage of missing values (out of rows) for each of the variables."
   ]
  },
  {
   "cell_type": "code",
   "execution_count": 223,
   "metadata": {},
   "outputs": [
    {
     "name": "stdout",
     "output_type": "stream",
     "text": [
      "Percentage of missing values ---> Month                           0.000000\n",
      "average number of passengers    0.034722\n",
      "destination                     0.000000\n",
      "loss of luggage                 0.743056\n",
      "dtype: float64\n"
     ]
    }
   ],
   "source": [
    "percent_missing = missing_nof_obs / len(data_set)\n",
    "print(\"Percentage of missing values --->\", percent_missing)"
   ]
  },
  {
   "attachments": {},
   "cell_type": "markdown",
   "metadata": {},
   "source": [
    "4) i) Suggest a remedy for the missing values in “loss of luggage” variable with sufficient reasoning. \n",
    "\n",
    "    - The best remedy we can use is to impute the missing values with \"no\" because that is the most likely value for a passenger who had not loss his/ her luggage."
   ]
  },
  {
   "attachments": {},
   "cell_type": "markdown",
   "metadata": {},
   "source": [
    "4) ii) Perform your suggestion and Save the data set as a csv file having the name as “Flights_data_new1.csv”  "
   ]
  },
  {
   "cell_type": "code",
   "execution_count": 224,
   "metadata": {},
   "outputs": [
    {
     "name": "stdout",
     "output_type": "stream",
     "text": [
      "       Month  average number of passengers destination loss of luggage\n",
      "0    1949-01                     123.99352         USA             yes\n",
      "1    1949-02                     124.32410     Germany              no\n",
      "2    1949-03                     124.72410       Japan              no\n",
      "3    1949-04                     125.13451         USA             yes\n",
      "4    1949-05                     125.72341       Japan              no\n",
      "..       ...                           ...         ...             ...\n",
      "139  1960-08                     479.01240     Germany              no\n",
      "140  1960-09                     482.45100       Japan              no\n",
      "141  1960-10                     485.15400         USA              no\n",
      "142  1960-11                     488.67700       Dubai              no\n",
      "143  1960-12                     491.68200   Australia              no\n",
      "\n",
      "[144 rows x 4 columns]\n"
     ]
    }
   ],
   "source": [
    "# Replace missing values with \"no\"\n",
    "data_set['loss of luggage'] = data_set['loss of luggage'].fillna(\"no\")\n",
    "\n",
    "# Convert \"loss of luggage\" column to a categorical variable\n",
    "data_set['loss of luggage'] = data_set['loss of luggage'].astype('category')\n",
    "\n",
    "print(data_set)\n",
    "\n",
    "# Save as a csv file\n",
    "data_set.to_csv(\"Flights_data_new1.csv\", index=False)"
   ]
  },
  {
   "attachments": {},
   "cell_type": "markdown",
   "metadata": {},
   "source": [
    "5) i) What would you suggest as a remedy for missing values in “average number of passengers” variable with reasons. \n",
    "\n",
    "    - The best remedy for the missing values in \"average number of passengers\" is to impute missing values with median since it is less sensitive to outliers than mean."
   ]
  },
  {
   "attachments": {},
   "cell_type": "markdown",
   "metadata": {},
   "source": [
    "5) ii) Perform your suggestion (Hint: You can use any mathematical calculation). Describe the steps used.\n",
    "\n",
    "    1. Find the median value of non-missing values\n",
    "    2. Replace the missing values with the median value"
   ]
  },
  {
   "cell_type": "code",
   "execution_count": 225,
   "metadata": {},
   "outputs": [
    {
     "name": "stdout",
     "output_type": "stream",
     "text": [
      "       Month  average number of passengers destination loss of luggage\n",
      "0    1949-01                     123.99352         USA             yes\n",
      "1    1949-02                     124.32410     Germany              no\n",
      "2    1949-03                     124.72410       Japan              no\n",
      "3    1949-04                     125.13451         USA             yes\n",
      "4    1949-05                     125.72341       Japan              no\n",
      "..       ...                           ...         ...             ...\n",
      "139  1960-08                     479.01240     Germany              no\n",
      "140  1960-09                     482.45100       Japan              no\n",
      "141  1960-10                     485.15400         USA              no\n",
      "142  1960-11                     488.67700       Dubai              no\n",
      "143  1960-12                     491.68200   Australia              no\n",
      "\n",
      "[144 rows x 4 columns]\n"
     ]
    }
   ],
   "source": [
    "data_set['average number of passengers'] = data_set['average number of passengers'].fillna(data_set['average number of passengers'].median())\n",
    "\n",
    "print(data_set)"
   ]
  },
  {
   "attachments": {},
   "cell_type": "markdown",
   "metadata": {},
   "source": [
    "5) iii) Save the data set with your performance as a csv file having the name as “Flights_data_new2.csv”"
   ]
  },
  {
   "cell_type": "code",
   "execution_count": 226,
   "metadata": {},
   "outputs": [],
   "source": [
    "data_set.to_csv('Flights_data_new2.csv', index=False)"
   ]
  },
  {
   "attachments": {},
   "cell_type": "markdown",
   "metadata": {},
   "source": [
    "5) iv) Do you think dropping records containing missing values is reasonable in this data? Give reasons.\n",
    "\n",
    "    - No, because the data set is very small and dropping records will reduce the amount of data availabl for the analysis.\n",
    "    - At the same time the missing values are also relatively few and they are not concentrated in any special variable so no need to dropp the records.\n",
    "    - So, it is better to impute values than dopping the records with missing values."
   ]
  }
 ],
 "metadata": {
  "kernelspec": {
   "display_name": ".venv",
   "language": "python",
   "name": "python3"
  },
  "language_info": {
   "codemirror_mode": {
    "name": "ipython",
    "version": 3
   },
   "file_extension": ".py",
   "mimetype": "text/x-python",
   "name": "python",
   "nbconvert_exporter": "python",
   "pygments_lexer": "ipython3",
   "version": "3.11.4"
  },
  "orig_nbformat": 4
 },
 "nbformat": 4,
 "nbformat_minor": 2
}
